{
 "cells": [
  {
   "cell_type": "markdown",
   "id": "ce4d6d60",
   "metadata": {},
   "source": [
    "Write a program to perfom linear search"
   ]
  },
  {
   "cell_type": "code",
   "execution_count": 6,
   "id": "a60cc2ec",
   "metadata": {},
   "outputs": [
    {
     "name": "stdout",
     "output_type": "stream",
     "text": [
      "Element not found\n"
     ]
    }
   ],
   "source": [
    "def linear_Search(list1, n, k):\n",
    "    \n",
    "    for i in range(0, n):\n",
    "        \n",
    "        if (list[i] == k):\n",
    "            \n",
    "            return i\n",
    "        \n",
    "        return -1\n",
    "    \n",
    "list1 = [1, 3, 5, 7, 9]\n",
    "k = 7\n",
    "\n",
    "n = len(list1)\n",
    "res = linear_Search(list1,n,k)\n",
    "\n",
    "if(res == -1):\n",
    "    print(\"Element not found\")\n",
    "    \n",
    "else:\n",
    "    print(\"element found at index:\", res)"
   ]
  },
  {
   "cell_type": "code",
   "execution_count": null,
   "id": "1f4112e2",
   "metadata": {},
   "outputs": [],
   "source": []
  },
  {
   "cell_type": "code",
   "execution_count": null,
   "id": "17259f44",
   "metadata": {},
   "outputs": [],
   "source": []
  },
  {
   "cell_type": "code",
   "execution_count": null,
   "id": "a8cb3cd1",
   "metadata": {},
   "outputs": [],
   "source": []
  }
 ],
 "metadata": {
  "kernelspec": {
   "display_name": "Python 3 (ipykernel)",
   "language": "python",
   "name": "python3"
  },
  "language_info": {
   "codemirror_mode": {
    "name": "ipython",
    "version": 3
   },
   "file_extension": ".py",
   "mimetype": "text/x-python",
   "name": "python",
   "nbconvert_exporter": "python",
   "pygments_lexer": "ipython3",
   "version": "3.9.12"
  }
 },
 "nbformat": 4,
 "nbformat_minor": 5
}
